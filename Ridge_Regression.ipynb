{
 "cells": [
  {
   "cell_type": "code",
   "execution_count": 11,
   "metadata": {
    "collapsed": true
   },
   "outputs": [],
   "source": [
    "import pandas as pd\n",
    "import matplotlib.pyplot as plt\n",
    "\n",
    "import numpy as np\n",
    "\n",
    "df_train = pd.read_csv('train.csv')"
   ]
  },
  {
   "cell_type": "code",
   "execution_count": 12,
   "metadata": {
    "collapsed": true
   },
   "outputs": [],
   "source": [
    "y = np.array(df_train['SalePrice'])\n",
    "X = df_train.loc[:, ['OverallQual', 'GrLivArea', 'GarageCars', 'GarageArea' , 'LotFrontage', 'TotalBsmtSF', 'FullBath', 'YearBuilt']]\n",
    "X = X.fillna(0).values"
   ]
  },
  {
   "cell_type": "code",
   "execution_count": 13,
   "metadata": {
    "collapsed": true
   },
   "outputs": [],
   "source": [
    "from sklearn.model_selection import train_test_split\n",
    "\n",
    "X_train, X_test, y_train, y_test = train_test_split(X, y, test_size=0.10)"
   ]
  },
  {
   "cell_type": "code",
   "execution_count": 14,
   "metadata": {},
   "outputs": [],
   "source": [
    "class RidgeRegression():\n",
    "    \n",
    "    def __init__(self, x_dim):\n",
    "        self.x_dim = x_dim\n",
    "        self.W = np.zeros((x_dim + 1))\n",
    "        \n",
    "    def predict(self, X):\n",
    "        X = np.append(np.zeros((X.shape[0])).reshape(-1, 1), X, axis = 1)\n",
    "        return np.dot(X, self.W)\n",
    "    \n",
    "    def train(self, X, y, alpha):\n",
    "        X = np.append(np.zeros((X.shape[0])).reshape(-1, 1), X, axis = 1)\n",
    "        try:\n",
    "            self.W = np.dot(np.dot(np.linalg.inv(np.dot(X.T, X) + alpha * np.eye(X.shape[1])), X.T), y)\n",
    "        except Exception as e:\n",
    "            print(\"Increase value of Regularizer.\")\n",
    "            \n",
    "    def test(self, X, y):\n",
    "        y_pred = self.predict(X)\n",
    "        error = np.mean(np.sqrt((y_pred - y) ** 2))\n",
    "        return error"
   ]
  },
  {
   "cell_type": "markdown",
   "metadata": {},
   "source": [
    "#### Error vs Alpha"
   ]
  },
  {
   "cell_type": "code",
   "execution_count": 15,
   "metadata": {
    "scrolled": true
   },
   "outputs": [
    {
     "data": {
      "image/png": "[encoded data removed]",
      "text/plain": [
       "<matplotlib.figure.Figure at 0x7f2f67b914d0>"
      ]
     },
     "metadata": {},
     "output_type": "display_data"
    }
   ],
   "source": [
    "errors = []\n",
    "for alpha in np.logspace(-5, 3, 20):\n",
    "    model = RidgeRegression(X.shape[1])\n",
    "    model.train(X_train, y_train, alpha)\n",
    "    errors.append(model.test(X_test, y_test))\n",
    "    \n",
    "plt.plot(np.logspace(-5, 3, 20), errors)\n",
    "plt.xlabel(\"Value of Alpha\")\n",
    "plt.ylabel(\"Mean Error\")\n",
    "plt.show()"
   ]
  },
  {
   "cell_type": "code",
   "execution_count": null,
   "metadata": {
    "collapsed": true
   },
   "outputs": [],
   "source": []
  }
 ],
 "metadata": {
  "kernelspec": {
   "display_name": "Python 2",
   "language": "python",
   "name": "python2"
  },
  "language_info": {
   "codemirror_mode": {
    "name": "ipython",
    "version": 2
   },
   "file_extension": ".py",
   "mimetype": "text/x-python",
   "name": "python",
   "nbconvert_exporter": "python",
   "pygments_lexer": "ipython2",
   "version": "2.7.13"
  }
 },
 "nbformat": 4,
 "nbformat_minor": 2
}
